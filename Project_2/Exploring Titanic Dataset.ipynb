{
 "cells": [
  {
   "cell_type": "markdown",
   "metadata": {},
   "source": [
    "# Saugata Ghosh\n",
    "### November 2,2016\n",
    "\n",
    "\n",
    "This ipython notebook contains the code for the exploration of the Titanic dataset, a project submitted as part of the Udacity Data Analyst nanodegree program. Specifically we explore which variables in the dataset might have a bearing on whether or not a passenger would survive the disaster. It is important to note that no statistical test or machine learning algorithm has been used to support the exploratory findings, which should therefore be taken as tentative at best.\n",
    "\n",
    "### Background\n",
    "\n",
    "One could hypothesize from stories of the Titanic's sinking that a passenger's survival was heavily dependent upon two factors: 1. Recognition of the possibility that the ship could sink 2. Access to a lifeboat\n",
    "\n",
    "According to Wikipedia, the Titanic reportedly struck an iceberg at 11:40 pm ship's time. The majority of its 2,224 passengers and crew had likely retired to their respective cabins for the evening by that time. Those on the upper decks had a shorter journey to the lifeboats, and possibly access to more timely and accurate information about the impending threat. Thus, any data relating to one's location on the ship could prove helpful to survival predictions. \n",
    "\n",
    "The Titanic was designed to carry 32 lifeboats, but this number was reduced to 20 (enough for about 1,180 people) for its maiden voyage -- likely a cost-cutting measure influenced by perceptions that the additional boats would clutter the deck of a ship deemed \"unsinkable.\" Given that constraint, it is not surprising that a disproportionate number of men were apparently left aboard because of a 'women and children first' protocol followed by some of the officers overseeing the loading of lifeboats with passengers. Hence age and gender of the passengers were also variables likely to influence their chances of survival. \n",
    "\n",
    "Thus the two broad questions we ask and try to answer are:\n",
    "\n",
    "a) How far was the evacuation policy followed likely to affect the chances of survival?\n",
    "\n",
    "b) How was the location of a passenger on the ship (and hence recognition of the possibility of a disaster) likely to affect chance of survival?"
   ]
  },
  {
   "cell_type": "code",
   "execution_count": 35,
   "metadata": {
    "collapsed": true
   },
   "outputs": [],
   "source": [
    "#Import required libraries\n",
    "\n",
    "import numpy as np\n",
    "import pandas as pd\n",
    "import matplotlib.pyplot as plt\n",
    "import seaborn as sns\n",
    "%matplotlib inline"
   ]
  },
  {
   "cell_type": "code",
   "execution_count": 36,
   "metadata": {},
   "outputs": [
    {
     "data": {
      "text/html": [
       "<div>\n",
       "<table border=\"1\" class=\"dataframe\">\n",
       "  <thead>\n",
       "    <tr style=\"text-align: right;\">\n",
       "      <th></th>\n",
       "      <th>PassengerId</th>\n",
       "      <th>Survived</th>\n",
       "      <th>Pclass</th>\n",
       "      <th>Name</th>\n",
       "      <th>Sex</th>\n",
       "      <th>Age</th>\n",
       "      <th>SibSp</th>\n",
       "      <th>Parch</th>\n",
       "      <th>Ticket</th>\n",
       "      <th>Fare</th>\n",
       "      <th>Cabin</th>\n",
       "      <th>Embarked</th>\n",
       "    </tr>\n",
       "  </thead>\n",
       "  <tbody>\n",
       "    <tr>\n",
       "      <th>0</th>\n",
       "      <td>1</td>\n",
       "      <td>0</td>\n",
       "      <td>3</td>\n",
       "      <td>Braund, Mr. Owen Harris</td>\n",
       "      <td>male</td>\n",
       "      <td>22.0</td>\n",
       "      <td>1</td>\n",
       "      <td>0</td>\n",
       "      <td>A/5 21171</td>\n",
       "      <td>7.2500</td>\n",
       "      <td>NaN</td>\n",
       "      <td>S</td>\n",
       "    </tr>\n",
       "    <tr>\n",
       "      <th>1</th>\n",
       "      <td>2</td>\n",
       "      <td>1</td>\n",
       "      <td>1</td>\n",
       "      <td>Cumings, Mrs. John Bradley (Florence Briggs Th...</td>\n",
       "      <td>female</td>\n",
       "      <td>38.0</td>\n",
       "      <td>1</td>\n",
       "      <td>0</td>\n",
       "      <td>PC 17599</td>\n",
       "      <td>71.2833</td>\n",
       "      <td>C85</td>\n",
       "      <td>C</td>\n",
       "    </tr>\n",
       "    <tr>\n",
       "      <th>2</th>\n",
       "      <td>3</td>\n",
       "      <td>1</td>\n",
       "      <td>3</td>\n",
       "      <td>Heikkinen, Miss. Laina</td>\n",
       "      <td>female</td>\n",
       "      <td>26.0</td>\n",
       "      <td>0</td>\n",
       "      <td>0</td>\n",
       "      <td>STON/O2. 3101282</td>\n",
       "      <td>7.9250</td>\n",
       "      <td>NaN</td>\n",
       "      <td>S</td>\n",
       "    </tr>\n",
       "    <tr>\n",
       "      <th>3</th>\n",
       "      <td>4</td>\n",
       "      <td>1</td>\n",
       "      <td>1</td>\n",
       "      <td>Futrelle, Mrs. Jacques Heath (Lily May Peel)</td>\n",
       "      <td>female</td>\n",
       "      <td>35.0</td>\n",
       "      <td>1</td>\n",
       "      <td>0</td>\n",
       "      <td>113803</td>\n",
       "      <td>53.1000</td>\n",
       "      <td>C123</td>\n",
       "      <td>S</td>\n",
       "    </tr>\n",
       "    <tr>\n",
       "      <th>4</th>\n",
       "      <td>5</td>\n",
       "      <td>0</td>\n",
       "      <td>3</td>\n",
       "      <td>Allen, Mr. William Henry</td>\n",
       "      <td>male</td>\n",
       "      <td>35.0</td>\n",
       "      <td>0</td>\n",
       "      <td>0</td>\n",
       "      <td>373450</td>\n",
       "      <td>8.0500</td>\n",
       "      <td>NaN</td>\n",
       "      <td>S</td>\n",
       "    </tr>\n",
       "  </tbody>\n",
       "</table>\n",
       "</div>"
      ],
      "text/plain": [
       "   PassengerId  Survived  Pclass  \\\n",
       "0            1         0       3   \n",
       "1            2         1       1   \n",
       "2            3         1       3   \n",
       "3            4         1       1   \n",
       "4            5         0       3   \n",
       "\n",
       "                                                Name     Sex   Age  SibSp  \\\n",
       "0                            Braund, Mr. Owen Harris    male  22.0      1   \n",
       "1  Cumings, Mrs. John Bradley (Florence Briggs Th...  female  38.0      1   \n",
       "2                             Heikkinen, Miss. Laina  female  26.0      0   \n",
       "3       Futrelle, Mrs. Jacques Heath (Lily May Peel)  female  35.0      1   \n",
       "4                           Allen, Mr. William Henry    male  35.0      0   \n",
       "\n",
       "   Parch            Ticket     Fare Cabin Embarked  \n",
       "0      0         A/5 21171   7.2500   NaN        S  \n",
       "1      0          PC 17599  71.2833   C85        C  \n",
       "2      0  STON/O2. 3101282   7.9250   NaN        S  \n",
       "3      0            113803  53.1000  C123        S  \n",
       "4      0            373450   8.0500   NaN        S  "
      ]
     },
     "execution_count": 36,
     "metadata": {},
     "output_type": "execute_result"
    }
   ],
   "source": [
    "#Import the Titanic dataset and explore the first few rows\n",
    "\n",
    "titanic_df = pd.read_csv('titanic-data.csv')\n",
    "titanic_df.head()"
   ]
  },
  {
   "cell_type": "code",
   "execution_count": 37,
   "metadata": {},
   "outputs": [
    {
     "data": {
      "text/html": [
       "<div>\n",
       "<table border=\"1\" class=\"dataframe\">\n",
       "  <thead>\n",
       "    <tr style=\"text-align: right;\">\n",
       "      <th></th>\n",
       "      <th>PassengerId</th>\n",
       "      <th>Survived</th>\n",
       "      <th>Pclass</th>\n",
       "      <th>Age</th>\n",
       "      <th>SibSp</th>\n",
       "      <th>Parch</th>\n",
       "      <th>Fare</th>\n",
       "    </tr>\n",
       "  </thead>\n",
       "  <tbody>\n",
       "    <tr>\n",
       "      <th>count</th>\n",
       "      <td>891.000000</td>\n",
       "      <td>891.000000</td>\n",
       "      <td>891.000000</td>\n",
       "      <td>714.000000</td>\n",
       "      <td>891.000000</td>\n",
       "      <td>891.000000</td>\n",
       "      <td>891.000000</td>\n",
       "    </tr>\n",
       "    <tr>\n",
       "      <th>mean</th>\n",
       "      <td>446.000000</td>\n",
       "      <td>0.383838</td>\n",
       "      <td>2.308642</td>\n",
       "      <td>29.699118</td>\n",
       "      <td>0.523008</td>\n",
       "      <td>0.381594</td>\n",
       "      <td>32.204208</td>\n",
       "    </tr>\n",
       "    <tr>\n",
       "      <th>std</th>\n",
       "      <td>257.353842</td>\n",
       "      <td>0.486592</td>\n",
       "      <td>0.836071</td>\n",
       "      <td>14.526497</td>\n",
       "      <td>1.102743</td>\n",
       "      <td>0.806057</td>\n",
       "      <td>49.693429</td>\n",
       "    </tr>\n",
       "    <tr>\n",
       "      <th>min</th>\n",
       "      <td>1.000000</td>\n",
       "      <td>0.000000</td>\n",
       "      <td>1.000000</td>\n",
       "      <td>0.420000</td>\n",
       "      <td>0.000000</td>\n",
       "      <td>0.000000</td>\n",
       "      <td>0.000000</td>\n",
       "    </tr>\n",
       "    <tr>\n",
       "      <th>25%</th>\n",
       "      <td>223.500000</td>\n",
       "      <td>0.000000</td>\n",
       "      <td>2.000000</td>\n",
       "      <td>20.125000</td>\n",
       "      <td>0.000000</td>\n",
       "      <td>0.000000</td>\n",
       "      <td>7.910400</td>\n",
       "    </tr>\n",
       "    <tr>\n",
       "      <th>50%</th>\n",
       "      <td>446.000000</td>\n",
       "      <td>0.000000</td>\n",
       "      <td>3.000000</td>\n",
       "      <td>28.000000</td>\n",
       "      <td>0.000000</td>\n",
       "      <td>0.000000</td>\n",
       "      <td>14.454200</td>\n",
       "    </tr>\n",
       "    <tr>\n",
       "      <th>75%</th>\n",
       "      <td>668.500000</td>\n",
       "      <td>1.000000</td>\n",
       "      <td>3.000000</td>\n",
       "      <td>38.000000</td>\n",
       "      <td>1.000000</td>\n",
       "      <td>0.000000</td>\n",
       "      <td>31.000000</td>\n",
       "    </tr>\n",
       "    <tr>\n",
       "      <th>max</th>\n",
       "      <td>891.000000</td>\n",
       "      <td>1.000000</td>\n",
       "      <td>3.000000</td>\n",
       "      <td>80.000000</td>\n",
       "      <td>8.000000</td>\n",
       "      <td>6.000000</td>\n",
       "      <td>512.329200</td>\n",
       "    </tr>\n",
       "  </tbody>\n",
       "</table>\n",
       "</div>"
      ],
      "text/plain": [
       "       PassengerId    Survived      Pclass         Age       SibSp  \\\n",
       "count   891.000000  891.000000  891.000000  714.000000  891.000000   \n",
       "mean    446.000000    0.383838    2.308642   29.699118    0.523008   \n",
       "std     257.353842    0.486592    0.836071   14.526497    1.102743   \n",
       "min       1.000000    0.000000    1.000000    0.420000    0.000000   \n",
       "25%     223.500000    0.000000    2.000000   20.125000    0.000000   \n",
       "50%     446.000000    0.000000    3.000000   28.000000    0.000000   \n",
       "75%     668.500000    1.000000    3.000000   38.000000    1.000000   \n",
       "max     891.000000    1.000000    3.000000   80.000000    8.000000   \n",
       "\n",
       "            Parch        Fare  \n",
       "count  891.000000  891.000000  \n",
       "mean     0.381594   32.204208  \n",
       "std      0.806057   49.693429  \n",
       "min      0.000000    0.000000  \n",
       "25%      0.000000    7.910400  \n",
       "50%      0.000000   14.454200  \n",
       "75%      0.000000   31.000000  \n",
       "max      6.000000  512.329200  "
      ]
     },
     "execution_count": 37,
     "metadata": {},
     "output_type": "execute_result"
    }
   ],
   "source": [
    "#Summary sstatistics for numerical variables\n",
    "titanic_df.describe()"
   ]
  },
  {
   "cell_type": "markdown",
   "metadata": {
    "collapsed": true
   },
   "source": [
    "The following are some observations from the above summary:\n",
    "\n",
    "a) There are 891 passengers in the dataset, 38% of whom survived\n",
    "\n",
    "b)The Pclass variable is really categorical and should be treated as such\n",
    "\n",
    "c) The average age of the passengers was 29.6 years with the oldest passenger being 80 years old and the youngest less than a year old\n",
    "\n",
    "d) The maximum number of siblings and spouses a passenger had was 8 while the maximum number of parents and children a passenger had was 6.\n",
    "\n"
   ]
  },
  {
   "cell_type": "code",
   "execution_count": 130,
   "metadata": {},
   "outputs": [
    {
     "name": "stdout",
     "output_type": "stream",
     "text": [
      "male      577\n",
      "female    314\n",
      "Name: Sex, dtype: int64\n",
      "3    491\n",
      "1    216\n",
      "2    184\n",
      "Name: Pclass, dtype: int64\n",
      "S    646\n",
      "C    168\n",
      "Q     77\n",
      "Name: Embarked, dtype: int64\n"
     ]
    }
   ],
   "source": [
    "#Let us now examine the frequency distribution for three categorical variables, Pclass, Sex and Port of Embarkation\n",
    "print titanic_df['Sex'].value_counts()\n",
    "print titanic_df['Pclass'].value_counts()\n",
    "print titanic_df['Embarked'].value_counts()"
   ]
  },
  {
   "cell_type": "markdown",
   "metadata": {},
   "source": [
    "The following are evident :\n",
    "\n",
    "a) There were more males than females aboard the Titanic\n",
    "\n",
    "b) The largest number of passengers were in the 3rd class, followed by 2nd and 1st\n",
    "\n",
    "c) Most passengers embarked at Southampton, followed by Cherbourg and Queenstown"
   ]
  },
  {
   "cell_type": "code",
   "execution_count": 39,
   "metadata": {},
   "outputs": [
    {
     "data": {
      "text/plain": [
       "PassengerId     0.000000\n",
       "Survived        0.000000\n",
       "Pclass          0.000000\n",
       "Name            0.000000\n",
       "Sex             0.000000\n",
       "Age            19.865320\n",
       "SibSp           0.000000\n",
       "Parch           0.000000\n",
       "Ticket          0.000000\n",
       "Fare            0.000000\n",
       "Cabin          77.104377\n",
       "Embarked        0.224467\n",
       "dtype: float64"
      ]
     },
     "execution_count": 39,
     "metadata": {},
     "output_type": "execute_result"
    }
   ],
   "source": [
    "#Examine the percentage of missing values in the variables\n",
    "titanic_df.apply(lambda x: sum(x.isnull())*100/float(len(x)),axis = 0)"
   ]
  },
  {
   "cell_type": "markdown",
   "metadata": {},
   "source": [
    "We can see that about 20% of the Age variable are missing and about 77% of the Cabin variable are missing. For the purpose of this analysis we will impute values for the Age and Embarked variables and ignore the following variables because they might not be relevant to the analysis - PassengerId, Ticket. The Cabin variable has too many missing values but we will see if some meaningful data transformation allows us to use this variable.We will ignore Fare paid in the analysis as Fare and Pclass should be highly correlated and Pclass alone should provide an adequate proxy for the socio-economic classes the passengers belonged to and therefore their possible location aboard the ship."
   ]
  },
  {
   "cell_type": "markdown",
   "metadata": {},
   "source": [
    "## Imputing missing variables : Age, Embarked & Cabin"
   ]
  },
  {
   "cell_type": "markdown",
   "metadata": {},
   "source": [
    "We will impute missing values for Age based on the median age of passengers grouped as per the passenger class they were in and their titles. The titles will give an idea of both the sex and age of the passengers. The passenger class information will further help us impute value correctly for wealthier (and potentially older) individuals. For this we will first extract the titles from the Name column in the dataset."
   ]
  },
  {
   "cell_type": "code",
   "execution_count": 40,
   "metadata": {},
   "outputs": [
    {
     "data": {
      "text/plain": [
       "Mr              517\n",
       "Miss            182\n",
       "Mrs             125\n",
       "Master           40\n",
       "Dr                7\n",
       "Rev               6\n",
       "Mlle              2\n",
       "Col               2\n",
       "Major             2\n",
       "Lady              1\n",
       "Jonkheer          1\n",
       "Don               1\n",
       "Ms                1\n",
       "Mme               1\n",
       "Capt              1\n",
       "the Countess      1\n",
       "Sir               1\n",
       "Name: Title, dtype: int64"
      ]
     },
     "execution_count": 40,
     "metadata": {},
     "output_type": "execute_result"
    }
   ],
   "source": [
    "titanic_df['Title'] = titanic_df['Name'].map(lambda name:name.split(',')[1].split('.')[0].strip())\n",
    "titanic_df['Title'].value_counts()"
   ]
  },
  {
   "cell_type": "markdown",
   "metadata": {},
   "source": [
    "Next we wish to reduce the different titles to four categories : Mr, Mrs, Miss and Master. For this we create an appropriate function and apply it to the Title column."
   ]
  },
  {
   "cell_type": "code",
   "execution_count": 41,
   "metadata": {},
   "outputs": [
    {
     "data": {
      "text/plain": [
       "Mr        531\n",
       "Miss      185\n",
       "Mrs       135\n",
       "Master     40\n",
       "Name: Title, dtype: int64"
      ]
     },
     "execution_count": 41,
     "metadata": {},
     "output_type": "execute_result"
    }
   ],
   "source": [
    "def replace_titles(x):\n",
    "    title=x['Title']\n",
    "    if title in ['Don', 'Major', 'Capt', 'Jonkheer', 'Rev', 'Col', 'Sir']:\n",
    "        return 'Mr'\n",
    "    elif title in ['the Countess', 'Mme', 'Lady']:\n",
    "        return 'Mrs'\n",
    "    elif title in ['Mlle', 'Ms']:\n",
    "        return 'Miss'\n",
    "    elif title =='Dr':\n",
    "        if x['Sex']=='Male':\n",
    "            return 'Mr'\n",
    "        else:\n",
    "            return 'Mrs'\n",
    "    else:\n",
    "        return title\n",
    "titanic_df['Title']=titanic_df.apply(replace_titles, axis=1)\n",
    "titanic_df['Title'].value_counts()"
   ]
  },
  {
   "cell_type": "markdown",
   "metadata": {},
   "source": [
    "Now that we have reduced the list of titles to four categories we will impute missing ages in each category (passenger class and title) with the median age for that category as given below"
   ]
  },
  {
   "cell_type": "code",
   "execution_count": 42,
   "metadata": {},
   "outputs": [
    {
     "data": {
      "text/plain": [
       "Pclass  Title \n",
       "1       Master     4.0\n",
       "        Miss      30.0\n",
       "        Mr        42.0\n",
       "        Mrs       43.0\n",
       "2       Master     1.0\n",
       "        Miss      24.0\n",
       "        Mr        31.0\n",
       "        Mrs       32.0\n",
       "3       Master     4.0\n",
       "        Miss      18.0\n",
       "        Mr        26.0\n",
       "        Mrs       31.0\n",
       "Name: Age, dtype: float64"
      ]
     },
     "execution_count": 42,
     "metadata": {},
     "output_type": "execute_result"
    }
   ],
   "source": [
    "titanic_df.groupby(['Pclass','Title'])['Age'].median()\n"
   ]
  },
  {
   "cell_type": "code",
   "execution_count": 43,
   "metadata": {
    "collapsed": true
   },
   "outputs": [],
   "source": [
    "def fillAges(row):\n",
    "        if row['Pclass']== 1:\n",
    "            if row['Title'] == 'Miss':\n",
    "                return 30\n",
    "            elif row['Title'] == 'Mrs':\n",
    "                return 43\n",
    "            elif row['Title'] == 'Mr':\n",
    "                return 42\n",
    "            elif row['Title'] == 'Master':\n",
    "                return 4\n",
    "        elif row['Pclass'] == 2:\n",
    "            if row['Title'] == 'Miss':\n",
    "                return 24\n",
    "            elif row['Title'] == 'Mrs':\n",
    "                return 32\n",
    "            elif row['Title'] == 'Mr':\n",
    "                return 31\n",
    "            elif row['Title'] == 'Master':\n",
    "                return 1\n",
    "        elif row['Pclass'] == 3:\n",
    "            if row['Title'] == 'Miss':\n",
    "                return 18\n",
    "            elif row['Title'] == 'Mrs':\n",
    "                return 31\n",
    "            elif row['Title'] == 'Mr':\n",
    "                return 26\n",
    "            elif row['Title'] == 'Master':\n",
    "                return 4\n",
    "titanic_df.Age = titanic_df.apply(lambda r : fillAges(r) if np.isnan(r['Age']) else r['Age'], axis=1)"
   ]
  },
  {
   "cell_type": "code",
   "execution_count": 44,
   "metadata": {},
   "outputs": [],
   "source": [
    "# We impute missing values in the Embarked column with the most frequent value in the column\n",
    "titanic_df['Embarked'] = titanic_df['Embarked'].fillna(titanic_df['Embarked'].value_counts().index[0])"
   ]
  },
  {
   "cell_type": "code",
   "execution_count": 53,
   "metadata": {},
   "outputs": [
    {
     "data": {
      "text/html": [
       "<div>\n",
       "<table border=\"1\" class=\"dataframe\">\n",
       "  <thead>\n",
       "    <tr style=\"text-align: right;\">\n",
       "      <th>Cabin</th>\n",
       "      <th>A</th>\n",
       "      <th>B</th>\n",
       "      <th>C</th>\n",
       "      <th>D</th>\n",
       "      <th>E</th>\n",
       "      <th>F</th>\n",
       "      <th>G</th>\n",
       "      <th>T</th>\n",
       "      <th>U</th>\n",
       "    </tr>\n",
       "    <tr>\n",
       "      <th>Pclass</th>\n",
       "      <th></th>\n",
       "      <th></th>\n",
       "      <th></th>\n",
       "      <th></th>\n",
       "      <th></th>\n",
       "      <th></th>\n",
       "      <th></th>\n",
       "      <th></th>\n",
       "      <th></th>\n",
       "    </tr>\n",
       "  </thead>\n",
       "  <tbody>\n",
       "    <tr>\n",
       "      <th>1</th>\n",
       "      <td>15</td>\n",
       "      <td>47</td>\n",
       "      <td>59</td>\n",
       "      <td>29</td>\n",
       "      <td>25</td>\n",
       "      <td>0</td>\n",
       "      <td>0</td>\n",
       "      <td>1</td>\n",
       "      <td>40</td>\n",
       "    </tr>\n",
       "    <tr>\n",
       "      <th>2</th>\n",
       "      <td>0</td>\n",
       "      <td>0</td>\n",
       "      <td>0</td>\n",
       "      <td>4</td>\n",
       "      <td>4</td>\n",
       "      <td>8</td>\n",
       "      <td>0</td>\n",
       "      <td>0</td>\n",
       "      <td>168</td>\n",
       "    </tr>\n",
       "    <tr>\n",
       "      <th>3</th>\n",
       "      <td>0</td>\n",
       "      <td>0</td>\n",
       "      <td>0</td>\n",
       "      <td>0</td>\n",
       "      <td>3</td>\n",
       "      <td>5</td>\n",
       "      <td>4</td>\n",
       "      <td>0</td>\n",
       "      <td>479</td>\n",
       "    </tr>\n",
       "  </tbody>\n",
       "</table>\n",
       "</div>"
      ],
      "text/plain": [
       "Cabin    A   B   C   D   E  F  G  T    U\n",
       "Pclass                                  \n",
       "1       15  47  59  29  25  0  0  1   40\n",
       "2        0   0   0   4   4  8  0  0  168\n",
       "3        0   0   0   0   3  5  4  0  479"
      ]
     },
     "execution_count": 53,
     "metadata": {},
     "output_type": "execute_result"
    }
   ],
   "source": [
    "#For the Cabin variable we replace the missing values with 'U' (for Unknown) and map each type of cabin to its first letter\n",
    "\n",
    "# replacing missing cabins with U (for Unknown)\n",
    "titanic_df.Cabin.fillna('U',inplace=True)\n",
    "    \n",
    "# mapping each Cabin value with the cabin letter\n",
    "titanic_df['Cabin'] = titanic_df['Cabin'].map(lambda c : c[0])\n",
    "\n",
    "pd.crosstab(index = titanic_df['Pclass'], columns = titanic_df['Cabin'])"
   ]
  },
  {
   "cell_type": "markdown",
   "metadata": {},
   "source": [
    "We observe from the above that the majority of passengers with known cabin assignments were in the first class"
   ]
  },
  {
   "cell_type": "code",
   "execution_count": 46,
   "metadata": {},
   "outputs": [
    {
     "data": {
      "text/plain": [
       "PassengerId    0.0\n",
       "Survived       0.0\n",
       "Pclass         0.0\n",
       "Name           0.0\n",
       "Sex            0.0\n",
       "Age            0.0\n",
       "SibSp          0.0\n",
       "Parch          0.0\n",
       "Ticket         0.0\n",
       "Fare           0.0\n",
       "Cabin          0.0\n",
       "Embarked       0.0\n",
       "Title          0.0\n",
       "dtype: float64"
      ]
     },
     "execution_count": 46,
     "metadata": {},
     "output_type": "execute_result"
    }
   ],
   "source": [
    "titanic_df.apply(lambda x: sum(x.isnull())*100/float(len(x)),axis = 0)"
   ]
  },
  {
   "cell_type": "markdown",
   "metadata": {},
   "source": [
    "We see that the missing values have been dealt with for all variables of interest"
   ]
  },
  {
   "cell_type": "code",
   "execution_count": null,
   "metadata": {
    "collapsed": true
   },
   "outputs": [],
   "source": []
  },
  {
   "cell_type": "markdown",
   "metadata": {},
   "source": [
    "## Creating new variables : Categorical Age and Family Size \n",
    "\n",
    "We create a variable Categorical Age to specifically distinguish between Child and Adult, to see if children had a better chance of survival\n",
    "\n"
   ]
  },
  {
   "cell_type": "code",
   "execution_count": 47,
   "metadata": {},
   "outputs": [],
   "source": [
    "# Creating Categorized Age variable\n",
    "\n",
    "titanic_df['Categorized_Age'] = titanic_df['Age'].apply(lambda x: \"Child\" if x <= 10 else \"Adult\")\n"
   ]
  },
  {
   "cell_type": "markdown",
   "metadata": {},
   "source": [
    "We also create a variable Family Size, that adds the variables Parch and SibSp to the passenger to determine how large a family the passenger had, as this could possibly have a bearing on chances of survival. We also introduce the feature Categorized Family Size, binning the Family Size variable into three categories."
   ]
  },
  {
   "cell_type": "code",
   "execution_count": 49,
   "metadata": {},
   "outputs": [],
   "source": [
    "#Creating Family Size variable\n",
    "\n",
    "titanic_df['Family_Size'] = titanic_df['Parch']+titanic_df['SibSp']+1\n",
    "\n",
    "#Creating Categorized Family Size variable\n",
    "\n",
    "bins = [0,1,4,11]\n",
    "group_names = ['Singleton', 'SmallFamily', 'LargeFamily']\n",
    "\n",
    "titanic_df['Categorized_Family'] = pd.cut(titanic_df['Family_Size'], bins, labels = group_names)\n",
    "\n"
   ]
  },
  {
   "cell_type": "code",
   "execution_count": 51,
   "metadata": {},
   "outputs": [
    {
     "data": {
      "text/plain": [
       "Singleton      537\n",
       "SmallFamily    292\n",
       "LargeFamily     62\n",
       "dtype: int64"
      ]
     },
     "execution_count": 51,
     "metadata": {},
     "output_type": "execute_result"
    }
   ],
   "source": [
    "titanic_df['Categorized_Family'].value_counts()"
   ]
  },
  {
   "cell_type": "markdown",
   "metadata": {
    "collapsed": true
   },
   "source": [
    "We observe that the majority of the passengers on board were single and relatively few were travelling with large families"
   ]
  },
  {
   "cell_type": "markdown",
   "metadata": {},
   "source": [
    "## Identifying likely predictors of survival ('Women and Children First!')"
   ]
  },
  {
   "cell_type": "markdown",
   "metadata": {},
   "source": [
    "Since as per our hypothesis the evacuation of passengers followed a 'Women and Children First' policy, we first examine if the data suggests that that was indeed the case."
   ]
  },
  {
   "cell_type": "code",
   "execution_count": 91,
   "metadata": {},
   "outputs": [
    {
     "data": {
      "text/plain": [
       "<matplotlib.legend.Legend at 0xa47e2e8>"
      ]
     },
     "execution_count": 91,
     "metadata": {},
     "output_type": "execute_result"
    },
    {
     "data": {
      "image/png": "[encoded data removed]",
      "text/plain": [
       "<matplotlib.figure.Figure at 0x9b171d0>"
      ]
     },
     "metadata": {},
     "output_type": "display_data"
    }
   ],
   "source": [
    "# Subsetting only for adults and examining survival \n",
    "titanic_adult = titanic_df[titanic_df['Categorized_Age'] == 'Adult']\n",
    "\n",
    "male = titanic_adult[titanic_adult['Sex'] == 'male']['Survived'].value_counts()\n",
    "female = titanic_adult[titanic_adult['Sex'] == 'female']['Survived'].value_counts()\n",
    "df = pd.DataFrame([male, female])\n",
    "df.index = ['Men', 'Women']\n",
    "df.plot(kind = 'bar', stacked = True, figsize = (15,8))\n",
    "plt.title('Survived By Sex', fontsize = 20, weight = 'bold')\n",
    "plt.legend(['Died', 'Survived'])"
   ]
  },
  {
   "cell_type": "code",
   "execution_count": 88,
   "metadata": {},
   "outputs": [
    {
     "data": {
      "text/plain": [
       "Sex     Survived\n",
       "female  1           214\n",
       "        0            69\n",
       "male    0           452\n",
       "        1            88\n",
       "dtype: int64"
      ]
     },
     "execution_count": 88,
     "metadata": {},
     "output_type": "execute_result"
    }
   ],
   "source": [
    "titanic_adult.groupby([\"Sex\"])[\"Survived\"].value_counts()\n",
    "\n",
    "\n"
   ]
  },
  {
   "cell_type": "markdown",
   "metadata": {},
   "source": [
    "From the above graph it is clear that while majority (76 %) of women survived, an overwhelming majority (84%) of men died. "
   ]
  },
  {
   "cell_type": "code",
   "execution_count": 129,
   "metadata": {},
   "outputs": [
    {
     "data": {
      "text/plain": [
       "<matplotlib.text.Text at 0x12e77d68>"
      ]
     },
     "execution_count": 129,
     "metadata": {},
     "output_type": "execute_result"
    },
    {
     "data": {
      "image/png": "[encoded data removed]",
      "text/plain": [
       "<matplotlib.figure.Figure at 0x12717e80>"
      ]
     },
     "metadata": {},
     "output_type": "display_data"
    }
   ],
   "source": [
    "#Examining Age distribution of those who died and those who survived\n",
    "\n",
    "survived = titanic_df[titanic_df['Survived']== 1]['Age']\n",
    "died = titanic_df[titanic_df['Survived'] == 0]['Age']\n",
    "\n",
    "data_to_plot = [died, survived]\n",
    "bp = plt.boxplot(data_to_plot,patch_artist=True)\n",
    "\n",
    "## change outline color, fill color and linewidth of the boxes\n",
    "for box in bp['boxes']:\n",
    "    # change outline color\n",
    "    box.set( color='#7570b3', linewidth=2)\n",
    "    # change fill color\n",
    "    box.set( facecolor = '#1b9e77' )\n",
    "\n",
    "## change color and linewidth of the whiskers\n",
    "for whisker in bp['whiskers']:\n",
    "    whisker.set(color='#7570b3', linewidth=2)\n",
    "\n",
    "## change color and linewidth of the caps\n",
    "for cap in bp['caps']:\n",
    "    cap.set(color='#7570b3', linewidth=2)\n",
    "\n",
    "## change color and linewidth of the medians\n",
    "for median in bp['medians']:\n",
    "    median.set(color='#b2df8a', linewidth=2)\n",
    "\n",
    "## change the style of fliers and their fill\n",
    "for flier in bp['fliers']:\n",
    "    flier.set(marker='o', color='#e7298a', alpha=0.5)\n",
    "\n",
    "plt.xticks([1,2],['Died', 'Survived'], fontsize=20)\n",
    "plt.yticks(np.arange(0,85,5))\n",
    "plt.title(\"Survived by Age\", fontsize=20, weight='bold')\n"
   ]
  },
  {
   "cell_type": "markdown",
   "metadata": {},
   "source": [
    "From the box plots there does not appear to be much difference in the overall age distrbutions of those who died and those who survived."
   ]
  },
  {
   "cell_type": "code",
   "execution_count": 94,
   "metadata": {},
   "outputs": [
    {
     "data": {
      "text/plain": [
       "<matplotlib.legend.Legend at 0xa38c940>"
      ]
     },
     "execution_count": 94,
     "metadata": {},
     "output_type": "execute_result"
    },
    {
     "data": {
      "image/png": "[encoded data removed]",
      "text/plain": [
       "<matplotlib.figure.Figure at 0xc6c1c50>"
      ]
     },
     "metadata": {},
     "output_type": "display_data"
    }
   ],
   "source": [
    "#Examining surivival for adults and children\n",
    "child = titanic_df[titanic_df['Categorized_Age'] == 'Child']['Survived'].value_counts()\n",
    "adult = titanic_df[titanic_df['Categorized_Age'] == 'Adult']['Survived'].value_counts()\n",
    "df = pd.DataFrame([adult, child])\n",
    "df.index = ['Adult', 'Child']\n",
    "df.plot(kind = 'bar', stacked = True, figsize = (15,8))\n",
    "plt.title('Survived By Adult & Child', fontsize = 20, weight = 'bold')\n",
    "plt.legend(['Died', 'Survived'])"
   ]
  },
  {
   "cell_type": "code",
   "execution_count": 95,
   "metadata": {},
   "outputs": [
    {
     "data": {
      "text/plain": [
       "Categorized_Age  Survived\n",
       "Adult            0           521\n",
       "                 1           302\n",
       "Child            1            40\n",
       "                 0            28\n",
       "dtype: int64"
      ]
     },
     "execution_count": 95,
     "metadata": {},
     "output_type": "execute_result"
    }
   ],
   "source": [
    "titanic_df.groupby([\"Categorized_Age\"])[\"Survived\"].value_counts()"
   ]
  },
  {
   "cell_type": "markdown",
   "metadata": {},
   "source": [
    "From the above graph it is evident that while majority(63%) of adults died, 58% of children survived"
   ]
  },
  {
   "cell_type": "code",
   "execution_count": 96,
   "metadata": {},
   "outputs": [
    {
     "data": {
      "text/plain": [
       "<matplotlib.legend.Legend at 0x9de1278>"
      ]
     },
     "execution_count": 96,
     "metadata": {},
     "output_type": "execute_result"
    },
    {
     "data": {
      "image/png": "[encoded data removed]",
      "text/plain": [
       "<matplotlib.figure.Figure at 0xc884be0>"
      ]
     },
     "metadata": {},
     "output_type": "display_data"
    }
   ],
   "source": [
    "#We examine the effect of family size on chances of survival\n",
    "single = titanic_df[titanic_df['Categorized_Family'] == 'Singleton']['Survived'].value_counts()\n",
    "small = titanic_df[titanic_df['Categorized_Family'] == 'SmallFamily']['Survived'].value_counts()\n",
    "large = titanic_df[titanic_df['Categorized_Family'] == 'LargeFamily']['Survived'].value_counts()\n",
    "df = pd.DataFrame([single, small, large])\n",
    "df.index = ['Single', 'Small Family', 'Large Family']\n",
    "df.plot(kind = 'bar', stacked = True, figsize = (15,8))\n",
    "plt.title('Survived By Family Size', fontsize = 20, weight = 'bold')\n",
    "plt.legend(['Died', 'Survived'])\n"
   ]
  },
  {
   "cell_type": "code",
   "execution_count": 97,
   "metadata": {},
   "outputs": [
    {
     "data": {
      "text/plain": [
       "Categorized_Family  Survived\n",
       "Singleton           0           374\n",
       "                    1           163\n",
       "SmallFamily         1           169\n",
       "                    0           123\n",
       "LargeFamily         0            52\n",
       "                    1            10\n",
       "dtype: int64"
      ]
     },
     "execution_count": 97,
     "metadata": {},
     "output_type": "execute_result"
    }
   ],
   "source": [
    "titanic_df.groupby([\"Categorized_Family\"])[\"Survived\"].value_counts()"
   ]
  },
  {
   "cell_type": "markdown",
   "metadata": {},
   "source": [
    "From the above it is clear that while majority (69%) of single people died, about 58 % of those with small families survived. For people with large families however, only 16 % survived. Thus we can conclude that gender, age and family size were variables that could have had a bearing on chances of survival."
   ]
  },
  {
   "cell_type": "markdown",
   "metadata": {},
   "source": [
    "## Identifying likely predictors of survival (Proximity to lifeboats)"
   ]
  },
  {
   "cell_type": "code",
   "execution_count": 98,
   "metadata": {},
   "outputs": [
    {
     "data": {
      "text/plain": [
       "<matplotlib.legend.Legend at 0xa162d30>"
      ]
     },
     "execution_count": 98,
     "metadata": {},
     "output_type": "execute_result"
    },
    {
     "data": {
      "image/png": "[encoded data removed]",
      "text/plain": [
       "<matplotlib.figure.Figure at 0xca814e0>"
      ]
     },
     "metadata": {},
     "output_type": "display_data"
    }
   ],
   "source": [
    "# We examine if the class of travel could have affected chances of survival\n",
    "one = titanic_df[titanic_df['Pclass'] == 1]['Survived'].value_counts()\n",
    "two = titanic_df[titanic_df['Pclass'] == 2]['Survived'].value_counts()\n",
    "three = titanic_df[titanic_df['Pclass'] == 3]['Survived'].value_counts()\n",
    "df = pd.DataFrame([one, two, three])\n",
    "df.index = ['First Class', 'Second Class', 'Third Class']\n",
    "df.plot(kind = 'bar', stacked = True, figsize = (15,8))\n",
    "plt.title('Survived By Class of Travel', fontsize = 20, weight = 'bold')\n",
    "plt.legend(['Died', 'Survived'])\n"
   ]
  },
  {
   "cell_type": "code",
   "execution_count": 99,
   "metadata": {},
   "outputs": [
    {
     "data": {
      "text/plain": [
       "Pclass  Survived\n",
       "1       1           136\n",
       "        0            80\n",
       "2       0            97\n",
       "        1            87\n",
       "3       0           372\n",
       "        1           119\n",
       "dtype: int64"
      ]
     },
     "execution_count": 99,
     "metadata": {},
     "output_type": "execute_result"
    }
   ],
   "source": [
    "titanic_df.groupby([\"Pclass\"])[\"Survived\"].value_counts()"
   ]
  },
  {
   "cell_type": "markdown",
   "metadata": {},
   "source": [
    "From the above it appears that the class of travel (and hence proximity to lifeboats) could have had a bearing on chances of survival. About 63% of those travelling in First Class survived. About 47% of those in Second Class survived. Only 24 % of those in Third Class survived.  "
   ]
  },
  {
   "cell_type": "code",
   "execution_count": 100,
   "metadata": {},
   "outputs": [
    {
     "data": {
      "text/plain": [
       "<matplotlib.legend.Legend at 0xaa57128>"
      ]
     },
     "execution_count": 100,
     "metadata": {},
     "output_type": "execute_result"
    },
    {
     "data": {
      "image/png": "[encoded data removed]",
      "text/plain": [
       "<matplotlib.figure.Figure at 0xc492438>"
      ]
     },
     "metadata": {},
     "output_type": "display_data"
    }
   ],
   "source": [
    "# Only for passengers in First Class we see if the type of Cabin they were in could have impacted chances of survival\n",
    "titanic_first = titanic_df[titanic_df['Pclass'] == 1]\n",
    "\n",
    "a = titanic_first[titanic_first['Cabin'] == 'A']['Survived'].value_counts()\n",
    "b = titanic_first[titanic_first['Cabin'] == 'B']['Survived'].value_counts()\n",
    "c = titanic_first[titanic_first['Cabin'] == 'C']['Survived'].value_counts()\n",
    "d = titanic_first[titanic_first['Cabin'] == 'D']['Survived'].value_counts()\n",
    "e = titanic_first[titanic_first['Cabin'] == 'E']['Survived'].value_counts()\n",
    "df = pd.DataFrame([a, b, c, d, e])\n",
    "df.index = ['A', 'B', 'C', 'D', 'E']\n",
    "df.plot(kind = 'bar', stacked = True, figsize = (15,8))\n",
    "plt.title('Survived By Cabin Type', fontsize = 20, weight = 'bold')\n",
    "plt.legend(['Died', 'Survived'])"
   ]
  },
  {
   "cell_type": "markdown",
   "metadata": {},
   "source": [
    "We sse that except for Cabin Type 'A', passengers in all other types of cabins had a very good chance of surviving. "
   ]
  },
  {
   "cell_type": "code",
   "execution_count": 101,
   "metadata": {},
   "outputs": [
    {
     "data": {
      "text/plain": [
       "<matplotlib.legend.Legend at 0xc492a58>"
      ]
     },
     "execution_count": 101,
     "metadata": {},
     "output_type": "execute_result"
    },
    {
     "data": {
      "image/png": "[encoded data removed]",
      "text/plain": [
       "<matplotlib.figure.Figure at 0xc87b0f0>"
      ]
     },
     "metadata": {},
     "output_type": "display_data"
    }
   ],
   "source": [
    "#We see if the port of embarkation could have had a bearing on location on the ship and hence chances of survival.\n",
    "\n",
    "south = titanic_df[titanic_df['Embarked'] == 'S']['Survived'].value_counts()\n",
    "cher = titanic_df[titanic_df['Embarked'] == 'C']['Survived'].value_counts()\n",
    "queens = titanic_df[titanic_df['Embarked'] == 'Q']['Survived'].value_counts()\n",
    "df = pd.DataFrame([south, cher, queens])\n",
    "df.index = ['Southampton', 'Cherbourg', 'Queenstown']\n",
    "df.plot(kind = 'bar', stacked = True, figsize = (15,8))\n",
    "plt.title('Survived By Port of Embarkation', fontsize = 20, weight = 'bold')\n",
    "plt.legend(['Died', 'Survived'])"
   ]
  },
  {
   "cell_type": "code",
   "execution_count": 102,
   "metadata": {},
   "outputs": [
    {
     "data": {
      "text/plain": [
       "Embarked  Survived\n",
       "C         1            93\n",
       "          0            75\n",
       "Q         0            47\n",
       "          1            30\n",
       "S         0           427\n",
       "          1           219\n",
       "dtype: int64"
      ]
     },
     "execution_count": 102,
     "metadata": {},
     "output_type": "execute_result"
    }
   ],
   "source": [
    "titanic_df.groupby([\"Embarked\"])[\"Survived\"].value_counts()"
   ]
  },
  {
   "cell_type": "markdown",
   "metadata": {},
   "source": [
    "Interestingly we see that 55 % of the people who embarked at Cherbourg survived while the majority of those who boarded at Southampton or Queenstown perished. Thus we can conclude that there were factors that affected access to a lifeboat and hence chances of survival. People travelling in First Class had a better chance of survival than people travelling in other classes, though here people travelling in Cabin Type A appear to have been at a disadvantage. Passengers who embarked at Cherbourg possibly had a better chance of survival than people who embarked at other ports. "
   ]
  },
  {
   "cell_type": "markdown",
   "metadata": {},
   "source": [
    "## Finally a look at the interaction between the Passenger Class and Sex variables to see if chances of survival differ between adult men and women when segmented by Pclass"
   ]
  },
  {
   "cell_type": "code",
   "execution_count": 124,
   "metadata": {},
   "outputs": [
    {
     "data": {
      "text/plain": [
       "<matplotlib.legend.Legend at 0x1268fba8>"
      ]
     },
     "execution_count": 124,
     "metadata": {},
     "output_type": "execute_result"
    },
    {
     "data": {
      "image/png": "[encoded data removed]",
      "text/plain": [
       "<matplotlib.figure.Figure at 0xe4a57b8>"
      ]
     },
     "metadata": {},
     "output_type": "display_data"
    }
   ],
   "source": [
    "titanic_adult = titanic_df[titanic_df['Categorized_Age'] == 'Adult']\n",
    "g = sns.factorplot(x = \"Sex\", hue = \"Survived\", col = \"Pclass\", data = titanic_adult, kind = 'count', legend = False)\n",
    "(g.set_xticklabels([\"Male\", 'Female']))\n",
    "plt.legend([\"Died\", \"Survived\"])\n",
    "\n",
    "\n"
   ]
  },
  {
   "cell_type": "markdown",
   "metadata": {},
   "source": [
    "It is clear for the above that while women in First and Second Classes had a very good chance of survival, for women in the Third Class chance of survival was about 50: 50. Men in First Class stood a disproportionately better chance of surviving than men in other classes. "
   ]
  },
  {
   "cell_type": "markdown",
   "metadata": {},
   "source": [
    "### This completes our exploratory analysis of variables that could have had an effect on chances of survival aboard the Titanic."
   ]
  },
  {
   "cell_type": "markdown",
   "metadata": {},
   "source": [
    "Sources : Wikipedia, Kaggle Titanic Competition"
   ]
  },
  {
   "cell_type": "code",
   "execution_count": null,
   "metadata": {
    "collapsed": true
   },
   "outputs": [],
   "source": []
  }
 ],
 "metadata": {
  "kernelspec": {
   "display_name": "Python 2",
   "language": "python",
   "name": "python2"
  },
  "language_info": {
   "codemirror_mode": {
    "name": "ipython",
    "version": 2
   },
   "file_extension": ".py",
   "mimetype": "text/x-python",
   "name": "python",
   "nbconvert_exporter": "python",
   "pygments_lexer": "ipython2",
   "version": "2.7.13"
  }
 },
 "nbformat": 4,
 "nbformat_minor": 1
}
